{
 "cells": [
  {
   "cell_type": "markdown",
   "metadata": {},
   "source": [
    "# PT Bank BTPN Tbk Stock Prediction using Scikit-Learn Linear Regression"
   ]
  },
  {
   "cell_type": "markdown",
   "metadata": {},
   "source": [
    "***"
   ]
  },
  {
   "cell_type": "markdown",
   "metadata": {},
   "source": [
    "## Importing The Libraries"
   ]
  },
  {
   "cell_type": "code",
   "execution_count": 6,
   "metadata": {},
   "outputs": [],
   "source": [
    "import pandas as pd\n",
    "import numpy as np\n",
    "import matplotlib.pyplot as plt\n",
    "import seaborn as sns\n",
    "from sklearn.linear_model import LinearRegression\n",
    "from sklearn.metrics import mean_absolute_error, mean_squared_error\n",
    "from sklearn.model_selection import train_test_split\n",
    "plt.style.use('ggplot')"
   ]
  },
  {
   "cell_type": "markdown",
   "metadata": {},
   "source": [
    "## Load The Data"
   ]
  },
  {
   "cell_type": "code",
   "execution_count": 10,
   "metadata": {},
   "outputs": [
    {
     "data": {
      "text/html": [
       "<div>\n",
       "<style scoped>\n",
       "    .dataframe tbody tr th:only-of-type {\n",
       "        vertical-align: middle;\n",
       "    }\n",
       "\n",
       "    .dataframe tbody tr th {\n",
       "        vertical-align: top;\n",
       "    }\n",
       "\n",
       "    .dataframe thead th {\n",
       "        text-align: right;\n",
       "    }\n",
       "</style>\n",
       "<table border=\"1\" class=\"dataframe\">\n",
       "  <thead>\n",
       "    <tr style=\"text-align: right;\">\n",
       "      <th></th>\n",
       "      <th>Date</th>\n",
       "      <th>Open</th>\n",
       "      <th>High</th>\n",
       "      <th>Low</th>\n",
       "      <th>Close</th>\n",
       "      <th>Adj Close</th>\n",
       "      <th>Volume</th>\n",
       "    </tr>\n",
       "  </thead>\n",
       "  <tbody>\n",
       "    <tr>\n",
       "      <th>0</th>\n",
       "      <td>2010-09-16</td>\n",
       "      <td>1848.750000</td>\n",
       "      <td>1875.930054</td>\n",
       "      <td>1848.750000</td>\n",
       "      <td>1848.750000</td>\n",
       "      <td>1725.023071</td>\n",
       "      <td>524139.0</td>\n",
       "    </tr>\n",
       "    <tr>\n",
       "      <th>1</th>\n",
       "      <td>2010-09-17</td>\n",
       "      <td>1866.869995</td>\n",
       "      <td>1885.000000</td>\n",
       "      <td>1866.869995</td>\n",
       "      <td>1866.869995</td>\n",
       "      <td>1741.930420</td>\n",
       "      <td>264828.0</td>\n",
       "    </tr>\n",
       "    <tr>\n",
       "      <th>2</th>\n",
       "      <td>2010-09-20</td>\n",
       "      <td>1848.750000</td>\n",
       "      <td>1866.869995</td>\n",
       "      <td>1839.680054</td>\n",
       "      <td>1848.750000</td>\n",
       "      <td>1725.023071</td>\n",
       "      <td>358621.0</td>\n",
       "    </tr>\n",
       "    <tr>\n",
       "      <th>3</th>\n",
       "      <td>2010-09-21</td>\n",
       "      <td>1839.680054</td>\n",
       "      <td>1857.810059</td>\n",
       "      <td>1839.680054</td>\n",
       "      <td>1839.680054</td>\n",
       "      <td>1716.560059</td>\n",
       "      <td>281380.0</td>\n",
       "    </tr>\n",
       "    <tr>\n",
       "      <th>4</th>\n",
       "      <td>2010-09-22</td>\n",
       "      <td>1839.680054</td>\n",
       "      <td>1848.750000</td>\n",
       "      <td>1839.680054</td>\n",
       "      <td>1839.680054</td>\n",
       "      <td>1716.560059</td>\n",
       "      <td>82759.0</td>\n",
       "    </tr>\n",
       "  </tbody>\n",
       "</table>\n",
       "</div>"
      ],
      "text/plain": [
       "         Date         Open         High          Low        Close  \\\n",
       "0  2010-09-16  1848.750000  1875.930054  1848.750000  1848.750000   \n",
       "1  2010-09-17  1866.869995  1885.000000  1866.869995  1866.869995   \n",
       "2  2010-09-20  1848.750000  1866.869995  1839.680054  1848.750000   \n",
       "3  2010-09-21  1839.680054  1857.810059  1839.680054  1839.680054   \n",
       "4  2010-09-22  1839.680054  1848.750000  1839.680054  1839.680054   \n",
       "\n",
       "     Adj Close    Volume  \n",
       "0  1725.023071  524139.0  \n",
       "1  1741.930420  264828.0  \n",
       "2  1725.023071  358621.0  \n",
       "3  1716.560059  281380.0  \n",
       "4  1716.560059   82759.0  "
      ]
     },
     "metadata": {},
     "output_type": "display_data"
    },
    {
     "data": {
      "text/html": [
       "<div>\n",
       "<style scoped>\n",
       "    .dataframe tbody tr th:only-of-type {\n",
       "        vertical-align: middle;\n",
       "    }\n",
       "\n",
       "    .dataframe tbody tr th {\n",
       "        vertical-align: top;\n",
       "    }\n",
       "\n",
       "    .dataframe thead th {\n",
       "        text-align: right;\n",
       "    }\n",
       "</style>\n",
       "<table border=\"1\" class=\"dataframe\">\n",
       "  <thead>\n",
       "    <tr style=\"text-align: right;\">\n",
       "      <th></th>\n",
       "      <th>Date</th>\n",
       "      <th>Open</th>\n",
       "      <th>High</th>\n",
       "      <th>Low</th>\n",
       "      <th>Close</th>\n",
       "      <th>Adj Close</th>\n",
       "      <th>Volume</th>\n",
       "    </tr>\n",
       "  </thead>\n",
       "  <tbody>\n",
       "    <tr>\n",
       "      <th>2484</th>\n",
       "      <td>2020-09-08</td>\n",
       "      <td>2290.0</td>\n",
       "      <td>2320.0</td>\n",
       "      <td>2290.0</td>\n",
       "      <td>2310.0</td>\n",
       "      <td>2310.0</td>\n",
       "      <td>42500.0</td>\n",
       "    </tr>\n",
       "    <tr>\n",
       "      <th>2485</th>\n",
       "      <td>2020-09-09</td>\n",
       "      <td>2300.0</td>\n",
       "      <td>2310.0</td>\n",
       "      <td>2200.0</td>\n",
       "      <td>2200.0</td>\n",
       "      <td>2200.0</td>\n",
       "      <td>235000.0</td>\n",
       "    </tr>\n",
       "    <tr>\n",
       "      <th>2486</th>\n",
       "      <td>2020-09-10</td>\n",
       "      <td>2190.0</td>\n",
       "      <td>2200.0</td>\n",
       "      <td>2050.0</td>\n",
       "      <td>2050.0</td>\n",
       "      <td>2050.0</td>\n",
       "      <td>185100.0</td>\n",
       "    </tr>\n",
       "    <tr>\n",
       "      <th>2487</th>\n",
       "      <td>2020-09-11</td>\n",
       "      <td>2000.0</td>\n",
       "      <td>2200.0</td>\n",
       "      <td>1950.0</td>\n",
       "      <td>2180.0</td>\n",
       "      <td>2180.0</td>\n",
       "      <td>145100.0</td>\n",
       "    </tr>\n",
       "    <tr>\n",
       "      <th>2488</th>\n",
       "      <td>2020-09-14</td>\n",
       "      <td>2180.0</td>\n",
       "      <td>2360.0</td>\n",
       "      <td>2180.0</td>\n",
       "      <td>2250.0</td>\n",
       "      <td>2250.0</td>\n",
       "      <td>177600.0</td>\n",
       "    </tr>\n",
       "  </tbody>\n",
       "</table>\n",
       "</div>"
      ],
      "text/plain": [
       "            Date    Open    High     Low   Close  Adj Close    Volume\n",
       "2484  2020-09-08  2290.0  2320.0  2290.0  2310.0     2310.0   42500.0\n",
       "2485  2020-09-09  2300.0  2310.0  2200.0  2200.0     2200.0  235000.0\n",
       "2486  2020-09-10  2190.0  2200.0  2050.0  2050.0     2050.0  185100.0\n",
       "2487  2020-09-11  2000.0  2200.0  1950.0  2180.0     2180.0  145100.0\n",
       "2488  2020-09-14  2180.0  2360.0  2180.0  2250.0     2250.0  177600.0"
      ]
     },
     "metadata": {},
     "output_type": "display_data"
    }
   ],
   "source": [
    "# there are 2489 observations and consists of 7 columns\n",
    "df = pd.read_csv('btpn.csv')\n",
    "display(df.head(5))\n",
    "display(df.tail(5))"
   ]
  },
  {
   "cell_type": "markdown",
   "metadata": {},
   "source": [
    "## Exploratory Data Analysis"
   ]
  },
  {
   "cell_type": "code",
   "execution_count": 11,
   "metadata": {},
   "outputs": [
    {
     "name": "stdout",
     "output_type": "stream",
     "text": [
      "<class 'pandas.core.frame.DataFrame'>\n",
      "RangeIndex: 2489 entries, 0 to 2488\n",
      "Data columns (total 7 columns):\n",
      " #   Column     Non-Null Count  Dtype  \n",
      "---  ------     --------------  -----  \n",
      " 0   Date       2489 non-null   object \n",
      " 1   Open       2488 non-null   float64\n",
      " 2   High       2488 non-null   float64\n",
      " 3   Low        2488 non-null   float64\n",
      " 4   Close      2488 non-null   float64\n",
      " 5   Adj Close  2488 non-null   float64\n",
      " 6   Volume     2488 non-null   float64\n",
      "dtypes: float64(6), object(1)\n",
      "memory usage: 136.2+ KB\n"
     ]
    }
   ],
   "source": [
    "# data types mostly float64, and df used approximately 136.2+ KB of memory\n",
    "df.info()"
   ]
  },
  {
   "cell_type": "code",
   "execution_count": 525,
   "metadata": {},
   "outputs": [
    {
     "data": {
      "text/html": [
       "<div>\n",
       "<style scoped>\n",
       "    .dataframe tbody tr th:only-of-type {\n",
       "        vertical-align: middle;\n",
       "    }\n",
       "\n",
       "    .dataframe tbody tr th {\n",
       "        vertical-align: top;\n",
       "    }\n",
       "\n",
       "    .dataframe thead th {\n",
       "        text-align: right;\n",
       "    }\n",
       "</style>\n",
       "<table border=\"1\" class=\"dataframe\">\n",
       "  <thead>\n",
       "    <tr style=\"text-align: right;\">\n",
       "      <th></th>\n",
       "      <th>Date</th>\n",
       "      <th>Open</th>\n",
       "      <th>High</th>\n",
       "      <th>Low</th>\n",
       "      <th>Close</th>\n",
       "      <th>Adj Close</th>\n",
       "      <th>Volume</th>\n",
       "    </tr>\n",
       "  </thead>\n",
       "  <tbody>\n",
       "    <tr>\n",
       "      <th>count</th>\n",
       "      <td>2489</td>\n",
       "      <td>2488.000000</td>\n",
       "      <td>2488.000000</td>\n",
       "      <td>2488.000000</td>\n",
       "      <td>2488.000000</td>\n",
       "      <td>2488.000000</td>\n",
       "      <td>2.488000e+03</td>\n",
       "    </tr>\n",
       "    <tr>\n",
       "      <th>unique</th>\n",
       "      <td>2489</td>\n",
       "      <td>NaN</td>\n",
       "      <td>NaN</td>\n",
       "      <td>NaN</td>\n",
       "      <td>NaN</td>\n",
       "      <td>NaN</td>\n",
       "      <td>NaN</td>\n",
       "    </tr>\n",
       "    <tr>\n",
       "      <th>top</th>\n",
       "      <td>2015-11-12</td>\n",
       "      <td>NaN</td>\n",
       "      <td>NaN</td>\n",
       "      <td>NaN</td>\n",
       "      <td>NaN</td>\n",
       "      <td>NaN</td>\n",
       "      <td>NaN</td>\n",
       "    </tr>\n",
       "    <tr>\n",
       "      <th>freq</th>\n",
       "      <td>1</td>\n",
       "      <td>NaN</td>\n",
       "      <td>NaN</td>\n",
       "      <td>NaN</td>\n",
       "      <td>NaN</td>\n",
       "      <td>NaN</td>\n",
       "      <td>NaN</td>\n",
       "    </tr>\n",
       "    <tr>\n",
       "      <th>mean</th>\n",
       "      <td>NaN</td>\n",
       "      <td>3411.019213</td>\n",
       "      <td>3443.710495</td>\n",
       "      <td>3372.161797</td>\n",
       "      <td>3408.814631</td>\n",
       "      <td>3244.168640</td>\n",
       "      <td>4.078913e+05</td>\n",
       "    </tr>\n",
       "    <tr>\n",
       "      <th>std</th>\n",
       "      <td>NaN</td>\n",
       "      <td>849.712063</td>\n",
       "      <td>857.038642</td>\n",
       "      <td>840.702411</td>\n",
       "      <td>849.231802</td>\n",
       "      <td>785.697165</td>\n",
       "      <td>1.131109e+06</td>\n",
       "    </tr>\n",
       "    <tr>\n",
       "      <th>min</th>\n",
       "      <td>NaN</td>\n",
       "      <td>1605.000000</td>\n",
       "      <td>1700.000000</td>\n",
       "      <td>1585.000000</td>\n",
       "      <td>1605.000000</td>\n",
       "      <td>1605.000000</td>\n",
       "      <td>0.000000e+00</td>\n",
       "    </tr>\n",
       "    <tr>\n",
       "      <th>25%</th>\n",
       "      <td>NaN</td>\n",
       "      <td>2640.000000</td>\n",
       "      <td>2660.000000</td>\n",
       "      <td>2610.000000</td>\n",
       "      <td>2640.000000</td>\n",
       "      <td>2491.311279</td>\n",
       "      <td>2.107500e+04</td>\n",
       "    </tr>\n",
       "    <tr>\n",
       "      <th>50%</th>\n",
       "      <td>NaN</td>\n",
       "      <td>3400.000000</td>\n",
       "      <td>3450.000000</td>\n",
       "      <td>3335.000000</td>\n",
       "      <td>3400.000000</td>\n",
       "      <td>3289.090576</td>\n",
       "      <td>1.057000e+05</td>\n",
       "    </tr>\n",
       "    <tr>\n",
       "      <th>75%</th>\n",
       "      <td>NaN</td>\n",
       "      <td>4000.000000</td>\n",
       "      <td>4030.000000</td>\n",
       "      <td>4000.000000</td>\n",
       "      <td>4000.000000</td>\n",
       "      <td>3810.000000</td>\n",
       "      <td>3.722750e+05</td>\n",
       "    </tr>\n",
       "    <tr>\n",
       "      <th>max</th>\n",
       "      <td>NaN</td>\n",
       "      <td>6000.000000</td>\n",
       "      <td>6050.000000</td>\n",
       "      <td>5800.000000</td>\n",
       "      <td>5950.000000</td>\n",
       "      <td>5551.797852</td>\n",
       "      <td>2.600370e+07</td>\n",
       "    </tr>\n",
       "  </tbody>\n",
       "</table>\n",
       "</div>"
      ],
      "text/plain": [
       "              Date         Open         High          Low        Close  \\\n",
       "count         2489  2488.000000  2488.000000  2488.000000  2488.000000   \n",
       "unique        2489          NaN          NaN          NaN          NaN   \n",
       "top     2015-11-12          NaN          NaN          NaN          NaN   \n",
       "freq             1          NaN          NaN          NaN          NaN   \n",
       "mean           NaN  3411.019213  3443.710495  3372.161797  3408.814631   \n",
       "std            NaN   849.712063   857.038642   840.702411   849.231802   \n",
       "min            NaN  1605.000000  1700.000000  1585.000000  1605.000000   \n",
       "25%            NaN  2640.000000  2660.000000  2610.000000  2640.000000   \n",
       "50%            NaN  3400.000000  3450.000000  3335.000000  3400.000000   \n",
       "75%            NaN  4000.000000  4030.000000  4000.000000  4000.000000   \n",
       "max            NaN  6000.000000  6050.000000  5800.000000  5950.000000   \n",
       "\n",
       "          Adj Close        Volume  \n",
       "count   2488.000000  2.488000e+03  \n",
       "unique          NaN           NaN  \n",
       "top             NaN           NaN  \n",
       "freq            NaN           NaN  \n",
       "mean    3244.168640  4.078913e+05  \n",
       "std      785.697165  1.131109e+06  \n",
       "min     1605.000000  0.000000e+00  \n",
       "25%     2491.311279  2.107500e+04  \n",
       "50%     3289.090576  1.057000e+05  \n",
       "75%     3810.000000  3.722750e+05  \n",
       "max     5551.797852  2.600370e+07  "
      ]
     },
     "execution_count": 525,
     "metadata": {},
     "output_type": "execute_result"
    }
   ],
   "source": [
    "# generate a set of descriptive statistics based on df\n",
    "# highest price was 6,050 and lowest price was 1,585\n",
    "# highest of shares traded was 26,003,700\n",
    "df.describe(include = 'all')"
   ]
  },
  {
   "cell_type": "code",
   "execution_count": 12,
   "metadata": {},
   "outputs": [
    {
     "data": {
      "text/plain": [
       "Date         0\n",
       "Open         1\n",
       "High         1\n",
       "Low          1\n",
       "Close        1\n",
       "Adj Close    1\n",
       "Volume       1\n",
       "dtype: int64"
      ]
     },
     "execution_count": 12,
     "metadata": {},
     "output_type": "execute_result"
    }
   ],
   "source": [
    "# checking missing values\n",
    "df.isnull().sum()"
   ]
  },
  {
   "cell_type": "code",
   "execution_count": 13,
   "metadata": {},
   "outputs": [
    {
     "data": {
      "text/plain": [
       "<AxesSubplot:>"
      ]
     },
     "execution_count": 13,
     "metadata": {},
     "output_type": "execute_result"
    },
    {
     "data": {
      "image/png": "[encoded data removed]",
      "text/plain": [
       "<Figure size 864x576 with 2 Axes>"
      ]
     },
     "metadata": {},
     "output_type": "display_data"
    }
   ],
   "source": [
    "# correlation results between features and label, visualized in heatmap\n",
    "# open, high, low, and close are highly correlated with adj close, indicated by values of 0.99\n",
    "plt.figure(figsize = (12,8))\n",
    "corr = df.corr()\n",
    "sns.heatmap(corr, annot = True, cmap = plt.cm.Reds)"
   ]
  },
  {
   "cell_type": "code",
   "execution_count": 14,
   "metadata": {},
   "outputs": [],
   "source": [
    "# remove any missing values\n",
    "X = df[['Open','High','Low']].dropna()\n",
    "y = df['Adj Close'].dropna()"
   ]
  },
  {
   "cell_type": "code",
   "execution_count": 15,
   "metadata": {},
   "outputs": [
    {
     "data": {
      "text/plain": [
       "<AxesSubplot:>"
      ]
     },
     "execution_count": 15,
     "metadata": {},
     "output_type": "execute_result"
    },
    {
     "data": {
      "image/png": "[encoded data removed]",
      "text/plain": [
       "<Figure size 432x288 with 1 Axes>"
      ]
     },
     "metadata": {},
     "output_type": "display_data"
    }
   ],
   "source": [
    "# visualize the features' data distribution plot\n",
    "# data mildly looks normally distributed\n",
    "sns.distplot(X, color = 'red')"
   ]
  },
  {
   "cell_type": "code",
   "execution_count": 16,
   "metadata": {},
   "outputs": [
    {
     "data": {
      "text/plain": [
       "<AxesSubplot:xlabel='Adj Close'>"
      ]
     },
     "execution_count": 16,
     "metadata": {},
     "output_type": "execute_result"
    },
    {
     "data": {
      "image/png": "[encoded data removed]",
      "text/plain": [
       "<Figure size 432x288 with 1 Axes>"
      ]
     },
     "metadata": {},
     "output_type": "display_data"
    }
   ],
   "source": [
    "# visualize the labels' data distribution plot\n",
    "# same with features, labels' data looks quite normally distributed\n",
    "sns.distplot(y, color = 'blue')"
   ]
  },
  {
   "cell_type": "markdown",
   "metadata": {},
   "source": [
    "## Splitting Data for Model Training and Testing"
   ]
  },
  {
   "cell_type": "code",
   "execution_count": 17,
   "metadata": {},
   "outputs": [],
   "source": [
    "# splitting the data by 80:20 for training and testing data\n",
    "x_train, x_test, y_train, y_test = train_test_split(X,y,test_size = 0.2, random_state = 0)"
   ]
  },
  {
   "cell_type": "markdown",
   "metadata": {},
   "source": [
    "## Training and Testing Data with Scikit-Learn Linear Regression"
   ]
  },
  {
   "cell_type": "code",
   "execution_count": 18,
   "metadata": {},
   "outputs": [
    {
     "data": {
      "text/plain": [
       "LinearRegression()"
      ]
     },
     "execution_count": 18,
     "metadata": {},
     "output_type": "execute_result"
    }
   ],
   "source": [
    "# fitting training data through the model\n",
    "model = LinearRegression()\n",
    "model.fit(x_train,y_train)"
   ]
  },
  {
   "cell_type": "code",
   "execution_count": 19,
   "metadata": {},
   "outputs": [
    {
     "name": "stdout",
     "output_type": "stream",
     "text": [
      "R2 Score: \n",
      " 0.9857148079421517\n",
      "Coefficient: \n",
      " [0.15799984 0.47794771 0.28130317]\n",
      "Intercept: \n",
      " 111.32441366301964\n"
     ]
    }
   ],
   "source": [
    "# R2 Score implies that nearly 98% of features' predict the label\n",
    "# highest coefficient shown by \"High\" features which 0.47794771\n",
    "# if all features' values is zero, the value of label will be around 111.32\n",
    "\n",
    "print('R2 Score: \\n',model.score(x_test,y_test))\n",
    "print('Coefficient: \\n', model.coef_)\n",
    "print('Intercept: \\n', model.intercept_)"
   ]
  },
  {
   "cell_type": "markdown",
   "metadata": {},
   "source": [
    "## Predicting The Label"
   ]
  },
  {
   "cell_type": "code",
   "execution_count": 21,
   "metadata": {},
   "outputs": [],
   "source": [
    "# predict the label\n",
    "prediction = model.predict(x_test)"
   ]
  },
  {
   "cell_type": "code",
   "execution_count": 22,
   "metadata": {},
   "outputs": [
    {
     "data": {
      "text/html": [
       "<div>\n",
       "<style scoped>\n",
       "    .dataframe tbody tr th:only-of-type {\n",
       "        vertical-align: middle;\n",
       "    }\n",
       "\n",
       "    .dataframe tbody tr th {\n",
       "        vertical-align: top;\n",
       "    }\n",
       "\n",
       "    .dataframe thead th {\n",
       "        text-align: right;\n",
       "    }\n",
       "</style>\n",
       "<table border=\"1\" class=\"dataframe\">\n",
       "  <thead>\n",
       "    <tr style=\"text-align: right;\">\n",
       "      <th></th>\n",
       "      <th>Actual</th>\n",
       "      <th>Predicted</th>\n",
       "    </tr>\n",
       "  </thead>\n",
       "  <tbody>\n",
       "    <tr>\n",
       "      <th>0</th>\n",
       "      <td>2440.754883</td>\n",
       "      <td>2456.252551</td>\n",
       "    </tr>\n",
       "    <tr>\n",
       "      <th>1</th>\n",
       "      <td>2621.941650</td>\n",
       "      <td>2681.132717</td>\n",
       "    </tr>\n",
       "    <tr>\n",
       "      <th>2</th>\n",
       "      <td>3774.289795</td>\n",
       "      <td>3816.344192</td>\n",
       "    </tr>\n",
       "    <tr>\n",
       "      <th>3</th>\n",
       "      <td>1805.000000</td>\n",
       "      <td>1829.150190</td>\n",
       "    </tr>\n",
       "    <tr>\n",
       "      <th>4</th>\n",
       "      <td>3240.000000</td>\n",
       "      <td>3076.977867</td>\n",
       "    </tr>\n",
       "    <tr>\n",
       "      <th>...</th>\n",
       "      <td>...</td>\n",
       "      <td>...</td>\n",
       "    </tr>\n",
       "    <tr>\n",
       "      <th>493</th>\n",
       "      <td>3662.320801</td>\n",
       "      <td>3720.399573</td>\n",
       "    </tr>\n",
       "    <tr>\n",
       "      <th>494</th>\n",
       "      <td>2536.798584</td>\n",
       "      <td>2599.973893</td>\n",
       "    </tr>\n",
       "    <tr>\n",
       "      <th>495</th>\n",
       "      <td>3530.000000</td>\n",
       "      <td>3244.559605</td>\n",
       "    </tr>\n",
       "    <tr>\n",
       "      <th>496</th>\n",
       "      <td>2589.283936</td>\n",
       "      <td>2656.695143</td>\n",
       "    </tr>\n",
       "    <tr>\n",
       "      <th>497</th>\n",
       "      <td>3778.955078</td>\n",
       "      <td>3897.881959</td>\n",
       "    </tr>\n",
       "  </tbody>\n",
       "</table>\n",
       "<p>498 rows × 2 columns</p>\n",
       "</div>"
      ],
      "text/plain": [
       "          Actual    Predicted\n",
       "0    2440.754883  2456.252551\n",
       "1    2621.941650  2681.132717\n",
       "2    3774.289795  3816.344192\n",
       "3    1805.000000  1829.150190\n",
       "4    3240.000000  3076.977867\n",
       "..           ...          ...\n",
       "493  3662.320801  3720.399573\n",
       "494  2536.798584  2599.973893\n",
       "495  3530.000000  3244.559605\n",
       "496  2589.283936  2656.695143\n",
       "497  3778.955078  3897.881959\n",
       "\n",
       "[498 rows x 2 columns]"
      ]
     },
     "execution_count": 22,
     "metadata": {},
     "output_type": "execute_result"
    }
   ],
   "source": [
    "# create dataframe for actual and prediction values\n",
    "df_predict = pd.DataFrame({'Actual':y_test,'Predicted':prediction})\n",
    "df_predict.reset_index(drop = True)"
   ]
  },
  {
   "cell_type": "markdown",
   "metadata": {},
   "source": [
    "## Model Evaluation"
   ]
  },
  {
   "cell_type": "code",
   "execution_count": 23,
   "metadata": {},
   "outputs": [
    {
     "name": "stdout",
     "output_type": "stream",
     "text": [
      "Model Evaluation:\n",
      "\t\n",
      "Mean Absolute Error:  77.05901965680906\n",
      "Mean Squared Error:  9408.823491820496\n",
      "Root Mean Squared Error:  8.77832670027774\n"
     ]
    }
   ],
   "source": [
    "# the lower MAE values, the better model will be\n",
    "# better model has MSE values near zero, but value seems large because it's squared version\n",
    "# smaller RMSE means the model will be better to approximate predicted values in regards of actual values\n",
    "print('Model Evaluation:')\n",
    "print('\\t')\n",
    "print('Mean Absolute Error: ', mean_absolute_error(y_test,prediction))\n",
    "print('Mean Squared Error: ', mean_squared_error(y_test,prediction))\n",
    "print('Root Mean Squared Error: ', np.sqrt(mean_absolute_error(y_test,prediction)))"
   ]
  },
  {
   "cell_type": "markdown",
   "metadata": {},
   "source": [
    "# Scatterplot of Actual and Predicted Values"
   ]
  },
  {
   "cell_type": "code",
   "execution_count": 24,
   "metadata": {},
   "outputs": [
    {
     "data": {
      "text/plain": [
       "Text(0, 0.5, 'Predicted')"
      ]
     },
     "execution_count": 24,
     "metadata": {},
     "output_type": "execute_result"
    },
    {
     "data": {
      "image/png": "[encoded data removed]",
      "text/plain": [
       "<Figure size 864x576 with 1 Axes>"
      ]
     },
     "metadata": {},
     "output_type": "display_data"
    }
   ],
   "source": [
    "plt.figure(1, figsize = (12,8))\n",
    "plt.scatter(y_test,prediction, color = 'b', edgecolor = 'w', s = 100)\n",
    "plt.plot(x_test,x_test,color = 'black', linewidth = 3)\n",
    "plt.xlabel('Actual')\n",
    "plt.ylabel('Predicted')"
   ]
  }
 ],
 "metadata": {
  "kernelspec": {
   "display_name": "Python 3",
   "language": "python",
   "name": "python3"
  },
  "language_info": {
   "codemirror_mode": {
    "name": "ipython",
    "version": 3
   },
   "file_extension": ".py",
   "mimetype": "text/x-python",
   "name": "python",
   "nbconvert_exporter": "python",
   "pygments_lexer": "ipython3",
   "version": "3.7.6"
  }
 },
 "nbformat": 4,
 "nbformat_minor": 4
}
